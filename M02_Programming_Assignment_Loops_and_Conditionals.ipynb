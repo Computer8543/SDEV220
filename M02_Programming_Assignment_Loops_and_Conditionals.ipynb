{
 "cells": [
  {
   "cell_type": "code",
   "execution_count": 2,
   "metadata": {},
   "outputs": [
    {
     "name": "stdout",
     "output_type": "stream",
     "text": [
      "just right\n"
     ]
    }
   ],
   "source": [
    "# Things to Do 4.1 \n",
    "secret: int = 3\n",
    "\n",
    "while True:\n",
    "    \"\"\" While loop with if statements in it that asks the user to \n",
    "        guess a number between 1 and 10, then it checks to see if \n",
    "        guess is an integer and if guess is between 1 and 10. If not\n",
    "        it continues to another iteration of the loop. Then if both of\n",
    "        those conditions are met, guess is then compared to secret. Too low\n",
    "        or too high and the loop continues, but if guess matches secret then\n",
    "        'just right' is printed and the loop ends. \n",
    "    \"\"\"\n",
    "    guess: int = int(input(\"Guess a number between 1 and 10:\"))\n",
    "    if isinstance(guess, int) == False:\n",
    "        print(\"what you entered was not a number. Input a number between 1 and 10.\")\n",
    "        continue\n",
    "    elif guess < 1 or guess > 10:\n",
    "        print(\"What you entered was not a number between 1 and 10. Input a number between 1 and 10.\")\n",
    "        continue\n",
    "    else:\n",
    "        if guess < secret:\n",
    "            print('too low')\n",
    "            continue\n",
    "        elif guess > secret:\n",
    "            print('too high')\n",
    "            continue\n",
    "        else:\n",
    "            print('just right')\n",
    "            break\n"
   ]
  },
  {
   "cell_type": "code",
   "execution_count": 3,
   "metadata": {},
   "outputs": [
    {
     "name": "stdout",
     "output_type": "stream",
     "text": [
      "pea\n"
     ]
    }
   ],
   "source": [
    "# Things to Do 4.2\n",
    "small: bool = True\n",
    "green: bool = True\n",
    "\n",
    "\"\"\" Check variables small and green to see what fruit or \n",
    "    vegetable matches them.\n",
    "\"\"\"\n",
    "if small == True and green == True:\n",
    "    print(\"pea\")\n",
    "elif small == True and green == False:\n",
    "    print(\"cherry\")\n",
    "elif small == False and green == True:\n",
    "    print(\"watermelon\")\n",
    "else:\n",
    "    print(\"pumpkin\")\n",
    "    "
   ]
  },
  {
   "cell_type": "code",
   "execution_count": 8,
   "metadata": {},
   "outputs": [
    {
     "name": "stdout",
     "output_type": "stream",
     "text": [
      "3\n",
      "2\n",
      "1\n",
      "0\n"
     ]
    }
   ],
   "source": [
    "# Things to Do 6.1 \n",
    "backwards_count: list = [3, 2, 1, 0]\n",
    "\n",
    "for i in backwards_count: # print backwards_count items in list\n",
    "    print(i)"
   ]
  },
  {
   "cell_type": "code",
   "execution_count": 13,
   "metadata": {},
   "outputs": [
    {
     "name": "stdout",
     "output_type": "stream",
     "text": [
      "too low\n",
      "too low\n",
      "too low\n",
      "too low\n",
      "too low\n",
      "too low\n",
      "found it!\n"
     ]
    }
   ],
   "source": [
    "# Things to Do 6.2\n",
    "\n",
    "guess_me: int = 7\n",
    "number: int = 1\n",
    "\n",
    "    \"\"\" The while loop acts as an infinite loop, only broken when number is equal\n",
    "        to guess_me or number is greater than guess_me. It incriments number by 1\n",
    "        at the end of the loop.\n",
    "    \"\"\"\n",
    "while True:\n",
    "    if number < guess_me:\n",
    "        print(\"too low\")\n",
    "    elif number == guess_me:\n",
    "        print(\"found it!\")\n",
    "        break\n",
    "    else:\n",
    "        print(\"oops\")\n",
    "        break\n",
    "    number += 1"
   ]
  },
  {
   "cell_type": "code",
   "execution_count": 14,
   "metadata": {},
   "outputs": [
    {
     "name": "stdout",
     "output_type": "stream",
     "text": [
      "too low\n",
      "too low\n",
      "too low\n",
      "too low\n",
      "too low\n",
      "found it!\n"
     ]
    }
   ],
   "source": [
    "# Things to Do 6.3\n",
    "\n",
    "guess_me: int = 5\n",
    "\n",
    "\"\"\" The for loop iterates number over a range of 10, meaning the numbers 0-9.\n",
    "    The loop breaks after printing messages when number is equal to or \n",
    "    greater than guess_me.\n",
    "\"\"\"\n",
    "for number in range(10):\n",
    "    if number < guess_me:\n",
    "        print(\"too low\")\n",
    "    elif number == guess_me:\n",
    "        print(\"found it!\")\n",
    "        break\n",
    "    else:\n",
    "        print(\"oops\")\n",
    "        break"
   ]
  }
 ],
 "metadata": {
  "kernelspec": {
   "display_name": "Python 3",
   "language": "python",
   "name": "python3"
  },
  "language_info": {
   "codemirror_mode": {
    "name": "ipython",
    "version": 3
   },
   "file_extension": ".py",
   "mimetype": "text/x-python",
   "name": "python",
   "nbconvert_exporter": "python",
   "pygments_lexer": "ipython3",
   "version": "3.12.1"
  }
 },
 "nbformat": 4,
 "nbformat_minor": 2
}
