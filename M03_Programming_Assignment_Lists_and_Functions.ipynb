{
 "cells": [
  {
   "cell_type": "code",
   "execution_count": null,
   "metadata": {},
   "outputs": [],
   "source": [
    "# Things to Do 7.4\n",
    "\n",
    "# define list\n",
    "things: list = [\"mozzarella\",\n",
    "\"cinderella\", \"salmonella\"]"
   ]
  },
  {
   "cell_type": "code",
   "execution_count": 2,
   "metadata": {},
   "outputs": [
    {
     "name": "stdout",
     "output_type": "stream",
     "text": [
      "['mozzarella', 'cinderella', 'salmonella']\n"
     ]
    }
   ],
   "source": [
    "# Things to Do 7.5 \n",
    "\n",
    "# define list\n",
    "things: list = [\"mozzarella\",\n",
    "\"cinderella\", \"salmonella\"]\n",
    "\n",
    "# capitalize cinderella\n",
    "things[1].capitalize()\n",
    "\n",
    "# print list\n",
    "print(things)"
   ]
  },
  {
   "cell_type": "markdown",
   "metadata": {},
   "source": [
    "# No, capitalizing cinderella in the list using the .capitalize() function did not change the list itself, rather, it created a new string object."
   ]
  },
  {
   "cell_type": "code",
   "execution_count": 4,
   "metadata": {},
   "outputs": [
    {
     "name": "stdout",
     "output_type": "stream",
     "text": [
      "['MOZZARELLA', 'cinderella', 'salmonella']\n"
     ]
    }
   ],
   "source": [
    "# Things to Do 7.6 \n",
    "\n",
    "# define list\n",
    "things: list = [\"mozzarella\",\n",
    "\"cinderella\", \"salmonella\"]\n",
    "\n",
    "# make mozzarella all caps\n",
    "things[0] = things[0].upper()\n",
    "\n",
    "# print list\n",
    "print(things)\n"
   ]
  },
  {
   "cell_type": "code",
   "execution_count": 6,
   "metadata": {},
   "outputs": [
    {
     "name": "stdout",
     "output_type": "stream",
     "text": [
      "['mozzarella', 'cinderella', 'Nobel Prize']\n"
     ]
    }
   ],
   "source": [
    "# Things to Do 7.7\n",
    "\n",
    "# define list\n",
    "things: list = [\"mozzarella\",\n",
    "\"cinderella\", \"salmonella\"]\n",
    "\n",
    "# delete salmonella from list \n",
    "del(things[2])\n",
    "\n",
    "# collect my Nobel Prize\n",
    "things.append(\"Nobel Prize\")\n",
    "\n",
    "# print list\n",
    "print(things)"
   ]
  },
  {
   "cell_type": "code",
   "execution_count": 21,
   "metadata": {},
   "outputs": [],
   "source": [
    "# Things to Do 9.1\n",
    "\n",
    "# returns a list of good characters in Harry Potter\n",
    "def good() -> list:\n",
    "    return ['Harry', 'Ron', 'Hermione']\n"
   ]
  },
  {
   "cell_type": "code",
   "execution_count": 20,
   "metadata": {},
   "outputs": [
    {
     "name": "stdout",
     "output_type": "stream",
     "text": [
      "5\n"
     ]
    }
   ],
   "source": [
    "# Things to Do 9.2\n",
    "\n",
    "# returns odd numbers from range(10) as a generator object, and print the third value returned using a for loop\n",
    "def get_odds():\n",
    "# variables listed here\n",
    "    i: int = 0\n",
    "\n",
    "    # if i is odd, then yield i \n",
    "    for i in range(10):\n",
    "        if i % 2 != 0:\n",
    "            yield i\n",
    "    \n",
    "\n",
    "# more variables listed here\n",
    "odds_generator_object = get_odds()\n",
    "j: int = 0\n",
    "number_of_odds: int = 1\n",
    "\n",
    "# print third value returned using a for loop\n",
    "for j in odds_generator_object:\n",
    "    if number_of_odds == 3:\n",
    "        print(j)\n",
    "    number_of_odds += 1"
   ]
  }
 ],
 "metadata": {
  "kernelspec": {
   "display_name": "Python 3",
   "language": "python",
   "name": "python3"
  },
  "language_info": {
   "codemirror_mode": {
    "name": "ipython",
    "version": 3
   },
   "file_extension": ".py",
   "mimetype": "text/x-python",
   "name": "python",
   "nbconvert_exporter": "python",
   "pygments_lexer": "ipython3",
   "version": "3.12.1"
  }
 },
 "nbformat": 4,
 "nbformat_minor": 2
}
