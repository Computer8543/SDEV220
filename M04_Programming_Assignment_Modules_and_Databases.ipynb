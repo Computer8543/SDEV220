{
 "cells": [
  {
   "cell_type": "code",
   "execution_count": null,
   "metadata": {},
   "outputs": [],
   "source": [
    "\"\"\" Student Name: Kyle Ingersoll\n",
    "    Program Name: M04_Programming_Assignment_Modules_and_Databases.ipynb\n",
    "    Description: Finish exercises from Chapters 11 and 16 \n",
    "\"\"\""
   ]
  },
  {
   "cell_type": "code",
   "execution_count": 6,
   "metadata": {},
   "outputs": [
    {
     "name": "stdout",
     "output_type": "stream",
     "text": [
      "Open 9-5 daily\n"
     ]
    }
   ],
   "source": [
    "# Things to Do 11.1 \n",
    "import zoo \n",
    "\n",
    "zoo.hours()"
   ]
  },
  {
   "cell_type": "code",
   "execution_count": 7,
   "metadata": {},
   "outputs": [
    {
     "name": "stdout",
     "output_type": "stream",
     "text": [
      "Open 9-5 daily\n"
     ]
    }
   ],
   "source": [
    "# Things to Do 11.2\n",
    "import zoo as menagerie\n",
    "\n",
    "menagerie.hours()"
   ]
  },
  {
   "cell_type": "code",
   "execution_count": 1,
   "metadata": {},
   "outputs": [
    {
     "name": "stdout",
     "output_type": "stream",
     "text": [
      "[('Perdido Street Station',), ('Small Gods',), ('The Spellman Files',), ('The Weirdstone of Brisingamen',), ('Thud!',)]\n"
     ]
    }
   ],
   "source": [
    "# Things to Do 16.8\n",
    "import sqlite3\n",
    "import sqlalchemy as db\n",
    "from sqlalchemy_utils import database_exists, create_database\n",
    "\n",
    "# intialize engine to connect to database\n",
    "engine = db.create_engine(\"sqlite:///./books.db\")\n",
    "if not database_exists(engine.url):\n",
    "    create_database(engine.url)\n",
    "\n",
    "\n",
    "# make connect object, metadata, and initialize books table\n",
    "connect = engine.connect()\n",
    "metadata = db.MetaData()\n",
    "books = db.Table('books', metadata,\n",
    "                        db.Column('title', db.String(255)),\n",
    "                        db.Column('author', db.String(255)),\n",
    "                        db.Column('year', db.Integer())\n",
    "            )\n",
    "metadata.create_all(engine)\n",
    "\n",
    "# populate books.db with data\n",
    "query1 = db.insert(books)\n",
    "values_list =   [{'title':'The Weirdstone of Brisingamen', 'author':'Alan Garner', 'year':'1960'}, \n",
    "                {'title':'Perdido Street Station', 'author':'China Miéville', 'year':'2000'},\n",
    "                {'title':'Thud!', 'author':'Terry Pratchett', 'year': '2005'},\n",
    "                {'title':'The Spellman Files', 'author':'Lisa Lutz', 'year': '2007'},\n",
    "                {'title':'Small Gods', 'author':'Terry Pratchett', 'year':'1992'}                                                                             \n",
    "                ]\n",
    "result = connect.execute(query1,values_list)\n",
    "\n",
    "# select titles of books in alphabetical order\n",
    "# note to self, if database locks, close this program, delete books.db, and try again.\n",
    "query2 = db.select(books.columns.title).order_by(db.asc(books.columns.title))\n",
    "output = connect.execute(query2)\n",
    "print(output.fetchall())\n",
    "\n"
   ]
  }
 ],
 "metadata": {
  "kernelspec": {
   "display_name": "Python 3",
   "language": "python",
   "name": "python3"
  },
  "language_info": {
   "codemirror_mode": {
    "name": "ipython",
    "version": 3
   },
   "file_extension": ".py",
   "mimetype": "text/x-python",
   "name": "python",
   "nbconvert_exporter": "python",
   "pygments_lexer": "ipython3",
   "version": "3.12.1"
  }
 },
 "nbformat": 4,
 "nbformat_minor": 2
}
