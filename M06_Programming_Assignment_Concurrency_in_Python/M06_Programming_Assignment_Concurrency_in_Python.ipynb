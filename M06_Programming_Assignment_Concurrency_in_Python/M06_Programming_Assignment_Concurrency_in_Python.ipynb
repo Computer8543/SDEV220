{
 "cells": [
  {
   "cell_type": "code",
   "execution_count": 12,
   "metadata": {},
   "outputs": [
    {
     "name": "stdout",
     "output_type": "stream",
     "text": [
      "Success, string written to text file.\n"
     ]
    }
   ],
   "source": [
    "# Things to Do 13.1\n",
    "import datetime\n",
    "\n",
    "current_date: datetime = datetime\n",
    "current_date = current_date.datetime.now().isoformat()\n",
    "text_file = open(\"today.txt\", \"wt\")\n",
    "\n",
    "write = text_file.write(current_date)\n",
    "\n",
    "if write == len(current_date):\n",
    "    print(\"Success, string written to text file.\")\n",
    "else:\n",
    "    print(\"Failure, string not written to text file.\")\n",
    "    \n",
    "text_file.close()"
   ]
  },
  {
   "cell_type": "code",
   "execution_count": 13,
   "metadata": {},
   "outputs": [
    {
     "name": "stdout",
     "output_type": "stream",
     "text": [
      "2024-02-29T13:53:27.490811\n"
     ]
    }
   ],
   "source": [
    "# Things to Do 13.2\n",
    "with open(\"today.txt\", \"rt\") as file:\n",
    "    today_string = file.read().replace('\\n', '')\n",
    "\n",
    "print(today_string)\n"
   ]
  },
  {
   "cell_type": "code",
   "execution_count": 15,
   "metadata": {},
   "outputs": [
    {
     "data": {
      "text/plain": [
       "datetime.date(2024, 2, 29)"
      ]
     },
     "execution_count": 15,
     "metadata": {},
     "output_type": "execute_result"
    }
   ],
   "source": [
    "# Things to Do 13.3\n",
    "from datetime import date\n",
    "\n",
    "with open(\"today.txt\", \"rt\") as file:\n",
    "    today_string = file.read().replace('\\n', '')\n",
    "    \n",
    "date.fromisoformat(today_string.split('T')[0])\n"
   ]
  }
 ],
 "metadata": {
  "kernelspec": {
   "display_name": "Python 3",
   "language": "python",
   "name": "python3"
  },
  "language_info": {
   "codemirror_mode": {
    "name": "ipython",
    "version": 3
   },
   "file_extension": ".py",
   "mimetype": "text/x-python",
   "name": "python",
   "nbconvert_exporter": "python",
   "pygments_lexer": "ipython3",
   "version": "3.12.1"
  }
 },
 "nbformat": 4,
 "nbformat_minor": 2
}
